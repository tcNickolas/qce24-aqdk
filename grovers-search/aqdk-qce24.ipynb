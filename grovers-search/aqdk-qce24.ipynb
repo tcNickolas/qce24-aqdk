{
  "cells": [
    {
      "cell_type": "markdown",
      "source": [
        "# Submit Q# code to simulator/hardware via Azure Quantum\n",
        "\n",
        "In this notebook, we'll review the basics of using Azure Quantum to submitting a simple quantum program, to IonQ simulator."
      ],
      "metadata": {},
      "id": "758dbf81-19b1-4f69-a412-e1cf2b2ce27b"
    },
    {
      "cell_type": "markdown",
      "source": [
        "### 1. Connect to the Azure Quantum workspace\n",
        "\n",
        "To connect to the Azure Quantum service, initialize the `Workspace` as seen below."
      ],
      "metadata": {
        "nteract": {
          "transient": {
            "deleting": false
          }
        }
      },
      "id": "738eb454-57dc-4306-9561-4f022569cdc9"
    },
    {
      "cell_type": "code",
      "source": [
        "from azure.quantum import Workspace\n",
        "\n",
        "workspace = Workspace(\n",
        "            resource_id = \"/subscriptions/006c31bd-51e0-41db-b622-d1d3f8e7213a/resourceGroups/AzureQuantum/providers/Microsoft.Quantum/Workspaces/AQ-Demo\",\n",
        "            location = \"westus\")"
      ],
      "outputs": [],
      "execution_count": 1,
      "metadata": {},
      "id": "193741c1-72ef-43f1-a6ef-5b3840fe5a1f"
    },
    {
      "cell_type": "markdown",
      "source": [
        "We can use the resulting object to see which _targets_ are available for submission."
      ],
      "metadata": {
        "nteract": {
          "transient": {
            "deleting": false
          }
        }
      },
      "id": "92aaa651-2bfb-4989-acfb-480997e2e280"
    },
    {
      "cell_type": "code",
      "source": [
        "print(\"This workspace's targets:\")\n",
        "for target in workspace.get_targets():\n",
        "    print(\"-\", target.name)\n"
      ],
      "outputs": [
        {
          "output_type": "stream",
          "name": "stdout",
          "text": "This workspace's targets:\n- ionq.qpu.aria-1\n- ionq.qpu.aria-2\n- ionq.simulator\n- quantinuum.qpu.h1-1\n- quantinuum.sim.h1-1sc\n- quantinuum.sim.h1-1e\n- rigetti.sim.qvm\n- rigetti.qpu.ankaa-2\n- microsoft.estimator\n"
        }
      ],
      "execution_count": 2,
      "metadata": {
        "jupyter": {
          "outputs_hidden": false,
          "source_hidden": false
        },
        "nteract": {
          "transient": {
            "deleting": false
          }
        }
      },
      "id": "a3c691dd-5964-4699-873a-8f1b10b7650d"
    },
    {
      "cell_type": "markdown",
      "source": [
        "### ❕ Do you see `ionq.simulator` in your list of targets? If so, you're ready to keep going.\n",
        "\n",
        "Don't see it? You may need to add IonQ to your workspace to run this sample. Navigate to the **Providers** page in the portal and click **+Add** to add the IonQ provider. Don't worry, there's a free credits plan available."
      ],
      "metadata": {
        "nteract": {
          "transient": {
            "deleting": false
          }
        }
      },
      "id": "35eb62e5-de39-4a20-9d07-38e24bc05ba4"
    },
    {
      "cell_type": "markdown",
      "source": [
        "### 2. Build the quantum program\n",
        "\n",
        "Here we'll use the Q# code for Grover's search from the first part of the workshop. This code will search for all bit strings with alternating bits, that is, bit strings 0101... and 1010...\n",
        "\n",
        "First, let's initialize the Q# environment and set the target profile to Base Profile. Today, Azure Quantum targets only support the Base Profile, a subset of all Q# commands."
      ],
      "metadata": {},
      "id": "48e00cf5-3ed8-4625-9ca8-09b759c9718b"
    },
    {
      "cell_type": "code",
      "source": [
        "import qsharp\n",
        "qsharp.init(target_profile=qsharp.TargetProfile.Base)\n"
      ],
      "outputs": [
        {
          "output_type": "display_data",
          "data": {
            "text/plain": "",
            "application/javascript": ""
          },
          "metadata": {}
        },
        {
          "output_type": "execute_result",
          "execution_count": 3,
          "data": {
            "application/x.qsharp-config": {
              "targetProfile": "base",
              "languageFeatures": null,
              "manifest": null
            },
            "text/plain": "Q# initialized with configuration: {'targetProfile': 'base', 'languageFeatures': None, 'manifest': None}"
          },
          "metadata": {}
        }
      ],
      "execution_count": 3,
      "metadata": {
        "jupyter": {
          "outputs_hidden": false,
          "source_hidden": false
        },
        "nteract": {
          "transient": {
            "deleting": false
          }
        }
      },
      "id": "aeb4cd1a-e0f6-4282-924f-fece9518e0f7"
    },
    {
      "cell_type": "code",
      "source": [
        "%%qsharp\n",
        "open Microsoft.Quantum.Convert;\n",
        "open Microsoft.Quantum.Math;\n",
        "\n",
        "operation AlternatingBitPairsOracle3(qs : Qubit[]) : Unit {\n",
        "    within {\n",
        "        for i in 0 .. Length(qs) - 2 {\n",
        "            CNOT(qs[i], qs[i + 1]);\n",
        "        }\n",
        "    } apply {\n",
        "        Controlled Z(qs[2...], qs[1]);\n",
        "    }\n",
        "}\n",
        "\n",
        "operation GroversSearch(\n",
        "    n : Int, \n",
        "    oracle : Qubit[] => Unit, \n",
        "    statePrep : Qubit[] => Unit is Adj,\n",
        "    iterations : Int\n",
        ") : Result[] {\n",
        "    use qs = Qubit[n];\n",
        "    // Prepare initial state: an even superposition of all basis states.\n",
        "    statePrep(qs);\n",
        "\n",
        "    for i in 1 .. iterations {\n",
        "        // Apply the oracle.\n",
        "        oracle(qs);\n",
        "        \n",
        "        // Reflect about the mean.\n",
        "        within {\n",
        "            Adjoint statePrep(qs);\n",
        "            ApplyToEachA(X, qs);\n",
        "        } apply {\n",
        "            Controlled Z(qs[...n - 2], qs[n - 1]);\n",
        "        }\n",
        "    }\n",
        "    return MResetEachZ(qs);\n",
        "}\n",
        "\n",
        "operation Main() : Result[] {\n",
        "    let n = 3;\n",
        "    let oracle = AlternatingBitPairsOracle3;\n",
        "    let statePrep = ApplyToEachA(H, _);\n",
        "    let iter = Round(PI() / 4.0 / ArcSin(2.0 / Sqrt(2.0^IntAsDouble(n))) - 0.5);\n",
        "    return GroversSearch(n, oracle, statePrep, iter);\n",
        "}\n"
      ],
      "outputs": [],
      "execution_count": 4,
      "metadata": {
        "microsoft": {
          "language": "qsharp"
        }
      },
      "id": "d9574e88-1fcb-489f-b968-1e1156f9236a"
    },
    {
      "cell_type": "code",
      "source": [
        "# Compile the qsharp operation\n",
        "operation = qsharp.compile(\"Main()\")\n"
      ],
      "outputs": [
        {
          "output_type": "display_data",
          "data": {},
          "metadata": {}
        }
      ],
      "execution_count": 5,
      "metadata": {
        "jupyter": {
          "outputs_hidden": false,
          "source_hidden": false
        },
        "nteract": {
          "transient": {
            "deleting": false
          }
        }
      },
      "id": "5c86117f-24f2-4386-a8b2-8cb6e1772885"
    },
    {
      "cell_type": "markdown",
      "source": [
        "### 3. Submit the quantum program to IonQ\n",
        "\n",
        "We will use the `target.submit` function to run the quantum program above on IonQ's `ionq.simulator` target. Your job will be packaged and sent to IonQ, where it will wait its turn to be run."
      ],
      "metadata": {},
      "id": "da5e2277-69e0-4009-9366-3cd0d496d97a"
    },
    {
      "cell_type": "code",
      "source": [
        "# Set the target to ionq.simulator\n",
        "target = workspace.get_targets(\"ionq.simulator\")\n",
        "\n",
        "# Execute the job. We'll use 100 shots (simulated runs).\n",
        "job = target.submit(operation, \"Grover's search - alternating bits\", shots=100)\n",
        "print(\"Job Id:\" + job.id)\n",
        "\n",
        "result = job.get_results()\n"
      ],
      "outputs": [
        {
          "output_type": "stream",
          "name": "stdout",
          "text": "Job Id:7c2d8780-7565-11ef-b297-00155dc29e58\n.........."
        }
      ],
      "execution_count": 6,
      "metadata": {},
      "id": "45c1a178-c9cb-4b87-bb87-f0efe74bd2c5"
    },
    {
      "cell_type": "markdown",
      "source": [
        "The job ID can be used to retrieve the results later using the [get_job method](https://learn.microsoft.com/python/azure-quantum/azure.quantum.workspace?#azure-quantum-workspace-get-job) or by viewing it under the **Job management** section of the portal."
      ],
      "metadata": {
        "nteract": {
          "transient": {
            "deleting": false
          }
        }
      },
      "id": "7478bf97-4a04-4d67-87c9-54dbe5488e5c"
    },
    {
      "cell_type": "markdown",
      "source": [
        "### 4. Visualize job results \n",
        "You can also view a histogram of the results using [`pyplot`](https://matplotlib.org/stable/api/_as_gen/matplotlib.pyplot.html):"
      ],
      "metadata": {
        "nteract": {
          "transient": {
            "deleting": false
          }
        }
      },
      "id": "60dcad6f-0584-48b6-b4d5-0444667d61f0"
    },
    {
      "cell_type": "code",
      "source": [
        "from matplotlib import pyplot\n",
        "\n",
        "pyplot.bar(result.keys(), result.values())\n",
        "pyplot.title(\"Result\")\n",
        "pyplot.xlabel(\"Measurement\")\n",
        "pyplot.ylabel(\"Probability\")\n",
        "\n",
        "pyplot.show()\n",
        "\n"
      ],
      "outputs": [
        {
          "output_type": "display_data",
          "data": {
            "text/plain": "<Figure size 640x480 with 1 Axes>",
            "image/png": "[encoded data removed]"
          },
          "metadata": {}
        }
      ],
      "execution_count": 7,
      "metadata": {
        "jupyter": {
          "outputs_hidden": false,
          "source_hidden": false
        },
        "nteract": {
          "transient": {
            "deleting": false
          }
        }
      },
      "id": "2df93272-d827-4432-ab49-baca1d97a267"
    }
  ],
  "metadata": {
    "kernel_info": {
      "name": "python3"
    },
    "kernelspec": {
      "name": "python3",
      "language": "python",
      "display_name": "Python 3 (ipykernel)"
    },
    "language_info": {
      "name": "python",
      "version": "3.11.9",
      "mimetype": "text/x-python",
      "codemirror_mode": {
        "name": "ipython",
        "version": 3
      },
      "pygments_lexer": "ipython3",
      "nbconvert_exporter": "python",
      "file_extension": ".py"
    },
    "microsoft": {
      "host": {
        "AzureQuantum": {
          "sourceType": "SampleGallery",
          "sourceLink": "https://raw.githubusercontent.com/microsoft/azure-quantum-python/0433fba226bd9e92e7d22c8dff19720771f3f175/samples/hello-world/HW-ionq-qsharp.ipynb"
        }
      }
    },
    "nteract": {
      "version": "nteract-front-end@1.0.0"
    }
  },
  "nbformat": 4,
  "nbformat_minor": 5
}